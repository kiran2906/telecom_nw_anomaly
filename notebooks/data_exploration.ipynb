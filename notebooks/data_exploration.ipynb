{
 "cells": [
  {
   "cell_type": "code",
   "execution_count": 2,
   "metadata": {},
   "outputs": [],
   "source": [
    "import numpy as np\n",
    "import pandas as pd\n",
    "import matplotlib.pyplot as plt\n",
    "import seaborn as sns\n",
    "from datetime import datetime, timedelta\n",
    "from sklearn.preprocessing import StandardScaler\n",
    "\n",
    "# Set the random seed for reproducibility\n",
    "np.random.seed(42)\n",
    "\n",
    "#Set Visualization style\n",
    "plt.style.use('seaborn-v0_8-whitegrid')\n",
    "sns.set_palette(\"deep\")\n",
    "plt.rcParams['figure.figsize'] = [12, 7]\n"
   ]
  },
  {
   "cell_type": "markdown",
   "metadata": {},
   "source": [
    "#### 1. Generate synthetic telecom network kpi data"
   ]
  },
  {
   "cell_type": "code",
   "execution_count": null,
   "metadata": {},
   "outputs": [],
   "source": [
    "def generate_telecom_kpi_data(days=14, samples_per_day=96):\n",
    "    \"\"\"\n",
    "       Generate synthetic telecom network KPI data.\n",
    "    \n",
    "        Parameters:\n",
    "        - days: Number of days to generate data for\n",
    "        - samples_per_day: Number of samples per day (96 = every 15 minutes)\n",
    "        \n",
    "        Returns:\n",
    "        - DataFrame with timestamp and KPI columns\n",
    "    \"\"\"\n",
    "    total_samples = days * samples_per_day\n",
    "    start_date = datetime(2024, 2, 1)\n",
    "    timestamps = [start_date + timedelta(minutes=15*i) for i in range(total_samples) ]\n",
    "    \n",
    "    # Base Data patterns\n",
    "    time_indices = np.arange(total_samples)\n",
    "    \n",
    "    \n",
    "    "
   ]
  }
 ],
 "metadata": {
  "kernelspec": {
   "display_name": "telecom_anomaly_env",
   "language": "python",
   "name": "python3"
  },
  "language_info": {
   "codemirror_mode": {
    "name": "ipython",
    "version": 3
   },
   "file_extension": ".py",
   "mimetype": "text/x-python",
   "name": "python",
   "nbconvert_exporter": "python",
   "pygments_lexer": "ipython3",
   "version": "3.10.10"
  }
 },
 "nbformat": 4,
 "nbformat_minor": 2
}
