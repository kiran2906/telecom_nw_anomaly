{
 "cells": [
  {
   "cell_type": "code",
   "execution_count": 1,
   "metadata": {},
   "outputs": [],
   "source": [
    "import numpy as np\n",
    "import pandas as pd\n",
    "import matplotlib.pyplot as plt\n",
    "import seaborn as sns\n",
    "from datetime import datetime\n",
    "import warnings\n",
    "warnings.filterwarnings('ignore')\n",
    "\n",
    "#machine learning imports\n",
    "from sklearn.ensemble import IsolationForest\n",
    "from sklearn.svm import OneClassSVM\n",
    "from sklearn.neighbors import LocalOutlierFactor\n",
    "from sklearn.preprocessing import StandardScaler\n",
    "from sklearn.metrics import confusion_matrix, classification_report\n",
    "from sklearn.cluster import DBSCAN\n",
    "\n",
    "#set visulaization style\n",
    "plt.style.use('seaborn-v0_8-whitegrid')\n",
    "sns.set_palette('deep')\n",
    "plt.rcParams['figure.figsize'] = [12,7]\n"
   ]
  },
  {
   "cell_type": "code",
   "execution_count": 12,
   "metadata": {},
   "outputs": [
    {
     "name": "stdout",
     "output_type": "stream",
     "text": [
      "Data loaded successfully\n"
     ]
    }
   ],
   "source": [
    "#Load the data\n",
    "try:\n",
    "    df = pd.read_csv('telecom_kpi_data.csv', parse_dates=['timestamp'])\n",
    "    print('Data loaded successfully')\n",
    "except:\n",
    "    print('CSV file not found, run the data_load notebook first')"
   ]
  },
  {
   "cell_type": "markdown",
   "metadata": {},
   "source": [
    "#### 1. Data Preprocessing"
   ]
  },
  {
   "cell_type": "code",
   "execution_count": 14,
   "metadata": {},
   "outputs": [
    {
     "name": "stdout",
     "output_type": "stream",
     "text": [
      "\n",
      "Total Samples:1344\n",
      "Known Anomalies: 31 (2.31%)\n"
     ]
    }
   ],
   "source": [
    "# select relevant kpi features\n",
    "kpi_features = ['traffic_load_mbps', 'latency_ms', 'packet_loss_pct', 'conn_success_rate', 'signal_strength_dbm']\n",
    "\n",
    "# Create a flag for known anomalies (to evaluate our models)\n",
    "# As Anomaly defined, where at lease 2 kpis have anomalies\n",
    "df['known_anomaly'] = df['anomaly_count'] >= 2\n",
    "\n",
    "# Stnadardize the data\n",
    "scaler = StandardScaler()\n",
    "df_scaled = pd.DataFrame(\n",
    "    scaler.fit_transform(df[kpi_features]),\n",
    "    columns=kpi_features,\n",
    "    index=df.index\n",
    ")\n",
    "print(f\"\\nTotal Samples:{len(df)}\")\n",
    "print(f\"Known Anomalies: {df['known_anomaly'].sum()} ({df['known_anomaly'].sum()/len(df)*100:.2f}%)\")\n",
    "\n"
   ]
  }
 ],
 "metadata": {
  "kernelspec": {
   "display_name": "telecom_anomaly_env",
   "language": "python",
   "name": "python3"
  },
  "language_info": {
   "codemirror_mode": {
    "name": "ipython",
    "version": 3
   },
   "file_extension": ".py",
   "mimetype": "text/x-python",
   "name": "python",
   "nbconvert_exporter": "python",
   "pygments_lexer": "ipython3",
   "version": "3.10.10"
  }
 },
 "nbformat": 4,
 "nbformat_minor": 2
}
